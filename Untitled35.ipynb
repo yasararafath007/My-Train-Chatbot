{
  "nbformat": 4,
  "nbformat_minor": 0,
  "metadata": {
    "colab": {
      "provenance": [],
      "authorship_tag": "ABX9TyMuG2MY8tvIGgVzl469M8JS",
      "include_colab_link": true
    },
    "kernelspec": {
      "name": "python3",
      "display_name": "Python 3"
    },
    "language_info": {
      "name": "python"
    }
  },
  "cells": [
    {
      "cell_type": "markdown",
      "metadata": {
        "id": "view-in-github",
        "colab_type": "text"
      },
      "source": [
        "<a href=\"https://colab.research.google.com/github/yasararafath007/My-Train-Chatbot/blob/main/Untitled35.ipynb\" target=\"_parent\"><img src=\"https://colab.research.google.com/assets/colab-badge.svg\" alt=\"Open In Colab\"/></a>"
      ]
    },
    {
      "cell_type": "code",
      "execution_count": null,
      "metadata": {
        "colab": {
          "base_uri": "https://localhost:8080/"
        },
        "id": "UDd19En3JFRQ",
        "outputId": "294e20c6-f469-4507-f674-05d66e7755f4"
      },
      "outputs": [
        {
          "output_type": "stream",
          "name": "stderr",
          "text": [
            "<ipython-input-1-7737cf87141f>:5: DtypeWarning: Columns (0,2,7) have mixed types. Specify dtype option on import or set low_memory=False.\n",
            "  df = pd.read_csv(dataset_path)\n"
          ]
        },
        {
          "output_type": "stream",
          "name": "stdout",
          "text": [
            "Welcome to MyTrain Chatbot!\n",
            "Enter your query (origin and destination): MAO SWV\n",
            "Train details:\n",
            "       train no    train name seq station code  station name arrival time  \\\n",
            "4           108  VLNK-MAO-SWV   1          MAO   MADGOAN JN.     00:00:00   \n",
            "5           108  VLNK-MAO-SWV   2         KRMI       KARMALI     21:04:00   \n",
            "6           108  VLNK-MAO-SWV   3         THVM        THIVIM     21:26:00   \n",
            "7           108  VLNK-MAO-SWV   4          SWV  SAWANTWADI R     22:25:00   \n",
            "105246    50108  MAO-SWV PASS   1          MAO   MADGOAN JN.     06:15:00   \n",
            "105247    50108  MAO-SWV PASS   2         SRVX  SURAVALI (H)     06:21:00   \n",
            "105248    50108  MAO-SWV PASS   3          MJO   MAJORDE JN.     06:28:00   \n",
            "105249    50108  MAO-SWV PASS   4          VEN         VERNA     06:36:00   \n",
            "105250    50108  MAO-SWV PASS   5         KRMI       KARMALI     06:52:00   \n",
            "105251    50108  MAO-SWV PASS   6         THVM        THIVIM     07:10:00   \n",
            "105252    50108  MAO-SWV PASS   7         PERN        PERNEM     07:22:00   \n",
            "105253    50108  MAO-SWV PASS   8         MADR    MADURE (H)     07:39:00   \n",
            "105254    50108  MAO-SWV PASS   9          SWV  SAWANTWADI R     08:25:00   \n",
            "\n",
            "       departure time distance source station source station name  \\\n",
            "4            20:30:00        0            MAO         MADGOAN JN.   \n",
            "5            21:06:00       33            MAO         MADGOAN JN.   \n",
            "6            21:28:00       51            MAO         MADGOAN JN.   \n",
            "7            00:00:00       83            MAO         MADGOAN JN.   \n",
            "105246       06:15:00        0            MAO         MADGOAN JN.   \n",
            "105247       06:22:00        6            MAO         MADGOAN JN.   \n",
            "105248       06:29:00       10            MAO         MADGOAN JN.   \n",
            "105249       06:37:00       17            MAO         MADGOAN JN.   \n",
            "105250       06:53:00       33            MAO         MADGOAN JN.   \n",
            "105251       07:11:00       51            MAO         MADGOAN JN.   \n",
            "105252       07:23:00       61            MAO         MADGOAN JN.   \n",
            "105253       07:40:00       75            MAO         MADGOAN JN.   \n",
            "105254       08:25:00       83            MAO         MADGOAN JN.   \n",
            "\n",
            "       destination station destination station name  \n",
            "4                      SWV          SAWANTWADI ROAD  \n",
            "5                      SWV          SAWANTWADI ROAD  \n",
            "6                      SWV          SAWANTWADI ROAD  \n",
            "7                      SWV          SAWANTWADI ROAD  \n",
            "105246                 SWV          SAWANTWADI ROAD  \n",
            "105247                 SWV          SAWANTWADI ROAD  \n",
            "105248                 SWV          SAWANTWADI ROAD  \n",
            "105249                 SWV          SAWANTWADI ROAD  \n",
            "105250                 SWV          SAWANTWADI ROAD  \n",
            "105251                 SWV          SAWANTWADI ROAD  \n",
            "105252                 SWV          SAWANTWADI ROAD  \n",
            "105253                 SWV          SAWANTWADI ROAD  \n",
            "105254                 SWV          SAWANTWADI ROAD  \n"
          ]
        }
      ],
      "source": [
        "import pandas as pd\n",
        "\n",
        "# Load the dataset\n",
        "dataset_path = \"Train_details_22122017.csv\"\n",
        "df = pd.read_csv(dataset_path)\n",
        "\n",
        "# Basic preprocessing\n",
        "df.columns = df.columns.str.lower()\n",
        "\n",
        "# Function to retrieve train details\n",
        "def get_train_details(origin, destination):\n",
        "    train_details = df[(df['source station'] == origin) & (df['destination station'] == destination)]\n",
        "    return train_details\n",
        "\n",
        "# Function to get user input (text)\n",
        "def get_user_input():\n",
        "    user_input = input(\"Enter your query (origin and destination): \")\n",
        "    return user_input\n",
        "\n",
        "# Main function\n",
        "def main():\n",
        "    print(\"Welcome to MyTrain Chatbot!\")\n",
        "\n",
        "    while True:\n",
        "        user_input = get_user_input()\n",
        "\n",
        "        # Check if the user wants to exit\n",
        "        if user_input.lower() == 'exit':\n",
        "            print(\"Exiting MyTrain Chatbot. Goodbye!\")\n",
        "            break\n",
        "\n",
        "        # Split user input into origin and destination\n",
        "        origin, destination = user_input.split()\n",
        "\n",
        "        # Retrieve train details\n",
        "        train_info = get_train_details(origin, destination)\n",
        "        if train_info.empty:\n",
        "            print(\"Sorry, no trains found for the given route.\")\n",
        "        else:\n",
        "            print(\"Train details:\")\n",
        "            print(train_info)\n",
        "\n",
        "if __name__ == \"__main__\":\n",
        "    main()\n"
      ]
    }
  ]
}